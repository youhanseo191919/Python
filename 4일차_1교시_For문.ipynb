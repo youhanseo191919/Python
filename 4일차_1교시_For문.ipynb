{
  "nbformat": 4,
  "nbformat_minor": 0,
  "metadata": {
    "colab": {
      "name": "4일차_1교시_For문.ipynb",
      "provenance": [],
      "authorship_tag": "ABX9TyPccSILqXTYtzjQXg8VSb7w",
      "include_colab_link": true
    },
    "kernelspec": {
      "name": "python3",
      "display_name": "Python 3"
    }
  },
  "cells": [
    {
      "cell_type": "markdown",
      "metadata": {
        "id": "view-in-github",
        "colab_type": "text"
      },
      "source": [
        "<a href=\"https://colab.research.google.com/github/youhanseo191919/Python/blob/master/4%EC%9D%BC%EC%B0%A8_1%EA%B5%90%EC%8B%9C_For%EB%AC%B8.ipynb\" target=\"_parent\"><img src=\"https://colab.research.google.com/assets/colab-badge.svg\" alt=\"Open In Colab\"/></a>"
      ]
    },
    {
      "cell_type": "markdown",
      "metadata": {
        "id": "Rs-s4yKX7xB0",
        "colab_type": "text"
      },
      "source": [
        "**[학습목표]**\n",
        "1 list, Range\n",
        "2 For문"
      ]
    },
    {
      "cell_type": "code",
      "metadata": {
        "id": "eICo_nXJ8W1-",
        "colab_type": "code",
        "colab": {
          "base_uri": "https://localhost:8080/",
          "height": 35
        },
        "outputId": "8f4140d2-3ef8-489a-b6be-ddb9ca7d4b4b"
      },
      "source": [
        "range(5)"
      ],
      "execution_count": 4,
      "outputs": [
        {
          "output_type": "execute_result",
          "data": {
            "text/plain": [
              "range(0, 5)"
            ]
          },
          "metadata": {
            "tags": []
          },
          "execution_count": 4
        }
      ]
    },
    {
      "cell_type": "code",
      "metadata": {
        "id": "jS3f75md8aIo",
        "colab_type": "code",
        "colab": {
          "base_uri": "https://localhost:8080/",
          "height": 35
        },
        "outputId": "ef05b76f-51f3-4ec8-f509-41d8059a2fb9"
      },
      "source": [
        "a = list(range(10, 0, -2))\n",
        "a"
      ],
      "execution_count": 7,
      "outputs": [
        {
          "output_type": "execute_result",
          "data": {
            "text/plain": [
              "[10, 8, 6, 4, 2]"
            ]
          },
          "metadata": {
            "tags": []
          },
          "execution_count": 7
        }
      ]
    },
    {
      "cell_type": "code",
      "metadata": {
        "id": "DLN5w-NR8iER",
        "colab_type": "code",
        "colab": {
          "base_uri": "https://localhost:8080/",
          "height": 35
        },
        "outputId": "f1403928-6188-46ff-f612-68ac14a3c3d2"
      },
      "source": [
        "type(a)"
      ],
      "execution_count": 8,
      "outputs": [
        {
          "output_type": "execute_result",
          "data": {
            "text/plain": [
              "list"
            ]
          },
          "metadata": {
            "tags": []
          },
          "execution_count": 8
        }
      ]
    },
    {
      "cell_type": "code",
      "metadata": {
        "id": "f3LOJS519CSn",
        "colab_type": "code",
        "colab": {
          "base_uri": "https://localhost:8080/",
          "height": 35
        },
        "outputId": "306cbf5d-a51a-45f9-dcb0-2b34350a3568"
      },
      "source": [
        "for i in range(1,11) :\n",
        "  print(i,end=' ')\n"
      ],
      "execution_count": 10,
      "outputs": [
        {
          "output_type": "stream",
          "text": [
            "1 2 3 4 5 6 7 8 9 10 "
          ],
          "name": "stdout"
        }
      ]
    },
    {
      "cell_type": "markdown",
      "metadata": {
        "id": "OFcqzOg49iYO",
        "colab_type": "text"
      },
      "source": [
        "**[문제1]**\n",
        "for문을 이용해서 10부터 0까지 -2씩 출력"
      ]
    },
    {
      "cell_type": "code",
      "metadata": {
        "id": "C8EZfCiJ9wBe",
        "colab_type": "code",
        "colab": {
          "base_uri": "https://localhost:8080/",
          "height": 35
        },
        "outputId": "31fa0f44-f747-465a-cda2-dc7a93e9a797"
      },
      "source": [
        "for i in range(10,-2,-2) :\n",
        "  print(i,end = ' ')"
      ],
      "execution_count": 11,
      "outputs": [
        {
          "output_type": "stream",
          "text": [
            "10 8 6 4 2 0 "
          ],
          "name": "stdout"
        }
      ]
    },
    {
      "cell_type": "code",
      "metadata": {
        "id": "HjJZnW56-Ezg",
        "colab_type": "code",
        "colab": {
          "base_uri": "https://localhost:8080/",
          "height": 107
        },
        "outputId": "e848464a-0e91-467e-eeab-1a2ca41218cd"
      },
      "source": [
        "a = [1.3,2.1,4.5,5,5.1]\n",
        "for i in a :\n",
        "  print(a)"
      ],
      "execution_count": 14,
      "outputs": [
        {
          "output_type": "stream",
          "text": [
            "[1.3, 2.1, 4.5, 5, 5.1]\n",
            "[1.3, 2.1, 4.5, 5, 5.1]\n",
            "[1.3, 2.1, 4.5, 5, 5.1]\n",
            "[1.3, 2.1, 4.5, 5, 5.1]\n",
            "[1.3, 2.1, 4.5, 5, 5.1]\n"
          ],
          "name": "stdout"
        }
      ]
    },
    {
      "cell_type": "code",
      "metadata": {
        "id": "V9fvbG70-gjI",
        "colab_type": "code",
        "colab": {
          "base_uri": "https://localhost:8080/",
          "height": 35
        },
        "outputId": "096e5e9e-5c48-4511-cda3-69dce623de45"
      },
      "source": [
        "a[0]"
      ],
      "execution_count": 15,
      "outputs": [
        {
          "output_type": "execute_result",
          "data": {
            "text/plain": [
              "1.3"
            ]
          },
          "metadata": {
            "tags": []
          },
          "execution_count": 15
        }
      ]
    },
    {
      "cell_type": "code",
      "metadata": {
        "id": "zrgxOGoY-tMd",
        "colab_type": "code",
        "colab": {
          "base_uri": "https://localhost:8080/",
          "height": 107
        },
        "outputId": "58742679-e8e0-46ed-deb0-189c0d985a47"
      },
      "source": [
        "a = [1.3,2.1,4.5,5,5.1]\n",
        "for i in range(len(a)) :\n",
        "  print(a[i])"
      ],
      "execution_count": 17,
      "outputs": [
        {
          "output_type": "stream",
          "text": [
            "1.3\n",
            "2.1\n",
            "4.5\n",
            "5\n",
            "5.1\n"
          ],
          "name": "stdout"
        }
      ]
    },
    {
      "cell_type": "markdown",
      "metadata": {
        "id": "XyqYkKUd_UdP",
        "colab_type": "text"
      },
      "source": [
        "**[문제2]**\n",
        "for문을\n",
        "\n",
        "#\n",
        "Hello Python 1\n",
        "...\n",
        "Hello Python 10"
      ]
    },
    {
      "cell_type": "code",
      "metadata": {
        "id": "Y-rCNI74_pfv",
        "colab_type": "code",
        "colab": {
          "base_uri": "https://localhost:8080/",
          "height": 197
        },
        "outputId": "dd97c75e-5c5b-4d9e-e5a2-5604e45b5d03"
      },
      "source": [
        "for i in range(1,11) :\n",
        "  print('Hello Pyhton', i)"
      ],
      "execution_count": 20,
      "outputs": [
        {
          "output_type": "stream",
          "text": [
            "Hello Pyhton 1\n",
            "Hello Pyhton 2\n",
            "Hello Pyhton 3\n",
            "Hello Pyhton 4\n",
            "Hello Pyhton 5\n",
            "Hello Pyhton 6\n",
            "Hello Pyhton 7\n",
            "Hello Pyhton 8\n",
            "Hello Pyhton 9\n",
            "Hello Pyhton 10\n"
          ],
          "name": "stdout"
        }
      ]
    },
    {
      "cell_type": "code",
      "metadata": {
        "id": "fzWjeVWiA45e",
        "colab_type": "code",
        "colab": {}
      },
      "source": [
        "count=(input('몇번 반복? >>>'))\n",
        "for i in range(1,11) :\n",
        "  print('좋아',i+1)"
      ],
      "execution_count": 0,
      "outputs": []
    },
    {
      "cell_type": "code",
      "metadata": {
        "id": "kseiiFeaB5Et",
        "colab_type": "code",
        "colab": {
          "base_uri": "https://localhost:8080/",
          "height": 53
        },
        "outputId": "940df17e-0067-4164-d141-a06ac5229237"
      },
      "source": [
        "a=list(map(int,(input('숫자 입력>>>').split())))\n",
        "print(a)"
      ],
      "execution_count": 25,
      "outputs": [
        {
          "output_type": "stream",
          "text": [
            "숫자 입력>>>2 5 4 7\n"
          ],
          "name": "stdout"
        },
        {
          "output_type": "execute_result",
          "data": {
            "text/plain": [
              "[2, 5, 4, 7]"
            ]
          },
          "metadata": {
            "tags": []
          },
          "execution_count": 25
        }
      ]
    },
    {
      "cell_type": "markdown",
      "metadata": {
        "id": "Zr8ml0IoCed5",
        "colab_type": "text"
      },
      "source": [
        "**[문제3]**\n",
        "숫자 5개를 입력 받아 합계 구하기"
      ]
    },
    {
      "cell_type": "code",
      "metadata": {
        "id": "NCvqYS7SCrck",
        "colab_type": "code",
        "colab": {
          "base_uri": "https://localhost:8080/",
          "height": 71
        },
        "outputId": "95ecb564-ea85-4863-ded8-1ab2de096977"
      },
      "source": [
        "a=list(map(int, (input('숫자 입력>>>').split())))\n",
        "sum = 0\n",
        "avg  = 0,0\n",
        "for i in range(len(a)) :\n",
        "  sum+=a[i]\n",
        "  print(a[i], end = ' / ')\n",
        "print('\\합계 : ', sum)\n",
        "avg  = sum/len(a)\n",
        "print('평균 : ', avg)"
      ],
      "execution_count": 30,
      "outputs": [
        {
          "output_type": "stream",
          "text": [
            "숫자 입력>>>1 2 3 4 5\n",
            "1 / 2 / 3 / 4 / 5 / 합계 :  15\n",
            "평균 :  3.0\n"
          ],
          "name": "stdout"
        }
      ]
    }
  ]
}