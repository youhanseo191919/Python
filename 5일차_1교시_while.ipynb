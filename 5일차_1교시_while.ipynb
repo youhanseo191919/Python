{
  "nbformat": 4,
  "nbformat_minor": 0,
  "metadata": {
    "colab": {
      "name": "5일차_1교시_while.ipynb",
      "provenance": [],
      "collapsed_sections": [],
      "authorship_tag": "ABX9TyNrfyzs+rnySHATOUD0SxPW",
      "include_colab_link": true
    },
    "kernelspec": {
      "name": "python3",
      "display_name": "Python 3"
    }
  },
  "cells": [
    {
      "cell_type": "markdown",
      "metadata": {
        "id": "view-in-github",
        "colab_type": "text"
      },
      "source": [
        "<a href=\"https://colab.research.google.com/github/youhanseo191919/Python/blob/%EB%A7%88%EC%8A%A4%ED%84%B03/5%EC%9D%BC%EC%B0%A8_1%EA%B5%90%EC%8B%9C_while.ipynb\" target=\"_parent\"><img src=\"https://colab.research.google.com/assets/colab-badge.svg\" alt=\"Open In Colab\"/></a>"
      ]
    },
    {
      "cell_type": "code",
      "metadata": {
        "id": "ApSgfU695dj3",
        "colab_type": "code",
        "colab": {}
      },
      "source": [
        "1"
      ],
      "execution_count": 0,
      "outputs": []
    },
    {
      "cell_type": "markdown",
      "metadata": {
        "id": "l9oVjIbY5q5G",
        "colab_type": "text"
      },
      "source": [
        "**1.1 while**"
      ]
    },
    {
      "cell_type": "markdown",
      "metadata": {
        "id": "wrPcVLyt6sIc",
        "colab_type": "text"
      },
      "source": [
        "**#**"
      ]
    },
    {
      "cell_type": "code",
      "metadata": {
        "id": "XNp0iKjg5u55",
        "colab_type": "code",
        "colab": {
          "base_uri": "https://localhost:8080/",
          "height": 136
        },
        "outputId": "91fe0142-ce24-48ce-bbda-5123b63b9ffd"
      },
      "source": [
        "1 for i in range(1,10):\n",
        "2  print(i)"
      ],
      "execution_count": 5,
      "outputs": [
        {
          "output_type": "error",
          "ename": "SyntaxError",
          "evalue": "ignored",
          "traceback": [
            "\u001b[0;36m  File \u001b[0;32m\"<ipython-input-5-d2f17fcc6761>\"\u001b[0;36m, line \u001b[0;32m1\u001b[0m\n\u001b[0;31m    1 for i in range(1,10):\u001b[0m\n\u001b[0m        ^\u001b[0m\n\u001b[0;31mSyntaxError\u001b[0m\u001b[0;31m:\u001b[0m invalid syntax\n"
          ]
        }
      ]
    },
    {
      "cell_type": "code",
      "metadata": {
        "id": "4oy2lMLf58UJ",
        "colab_type": "code",
        "colab": {
          "base_uri": "https://localhost:8080/",
          "height": 136
        },
        "outputId": "ac3cfd51-2563-483d-f349-3f366a70849c"
      },
      "source": [
        "1 i=1\n",
        "2 while(i<11):\n",
        "3  print(i)\n",
        "4  i+=1\n"
      ],
      "execution_count": 6,
      "outputs": [
        {
          "output_type": "error",
          "ename": "SyntaxError",
          "evalue": "ignored",
          "traceback": [
            "\u001b[0;36m  File \u001b[0;32m\"<ipython-input-6-5ed647bfdeb9>\"\u001b[0;36m, line \u001b[0;32m1\u001b[0m\n\u001b[0;31m    1 i=1\u001b[0m\n\u001b[0m      ^\u001b[0m\n\u001b[0;31mSyntaxError\u001b[0m\u001b[0;31m:\u001b[0m invalid syntax\n"
          ]
        }
      ]
    },
    {
      "cell_type": "code",
      "metadata": {
        "id": "BPeix1Db6bp7",
        "colab_type": "code",
        "colab": {
          "base_uri": "https://localhost:8080/",
          "height": 136
        },
        "outputId": "5c7078b1-67ee-4bc9-d471-9e710c6b8cf9"
      },
      "source": [
        "1 num=list(range(10,110,10))\n",
        "2 num"
      ],
      "execution_count": 7,
      "outputs": [
        {
          "output_type": "error",
          "ename": "SyntaxError",
          "evalue": "ignored",
          "traceback": [
            "\u001b[0;36m  File \u001b[0;32m\"<ipython-input-7-f838414e55f8>\"\u001b[0;36m, line \u001b[0;32m1\u001b[0m\n\u001b[0;31m    1 num=list(range(10,110,10))\u001b[0m\n\u001b[0m        ^\u001b[0m\n\u001b[0;31mSyntaxError\u001b[0m\u001b[0;31m:\u001b[0m invalid syntax\n"
          ]
        }
      ]
    },
    {
      "cell_type": "code",
      "metadata": {
        "id": "posxFKBw6zaR",
        "colab_type": "code",
        "colab": {
          "base_uri": "https://localhost:8080/",
          "height": 136
        },
        "outputId": "638e298f-b32a-42d9-a61f-f5314bbdb7db"
      },
      "source": [
        "1 a=0\n",
        "2 while(a<len(num));\n",
        "3 print(num[a], end=' ')\n",
        "4 a+=1"
      ],
      "execution_count": 8,
      "outputs": [
        {
          "output_type": "error",
          "ename": "SyntaxError",
          "evalue": "ignored",
          "traceback": [
            "\u001b[0;36m  File \u001b[0;32m\"<ipython-input-8-4e75ea9ca0dd>\"\u001b[0;36m, line \u001b[0;32m1\u001b[0m\n\u001b[0;31m    1 a=0\u001b[0m\n\u001b[0m      ^\u001b[0m\n\u001b[0;31mSyntaxError\u001b[0m\u001b[0;31m:\u001b[0m invalid syntax\n"
          ]
        }
      ]
    },
    {
      "cell_type": "code",
      "metadata": {
        "id": "9OCQmEkV7dP3",
        "colab_type": "code",
        "colab": {
          "base_uri": "https://localhost:8080/",
          "height": 136
        },
        "outputId": "12c2abe4-c71a-4ab6-ce9e-d37ecc8b46b9"
      },
      "source": [
        "1 lunch = ['라면','햄버거','김밥','돈가스','자장면']\n",
        "2 i=0\n",
        "3 hile(i<len(lunch)):\n",
        "4   print(lunch[i])\n",
        "5 i+=1\n",
        "\n"
      ],
      "execution_count": 9,
      "outputs": [
        {
          "output_type": "error",
          "ename": "SyntaxError",
          "evalue": "ignored",
          "traceback": [
            "\u001b[0;36m  File \u001b[0;32m\"<ipython-input-9-f5f8bae33ea6>\"\u001b[0;36m, line \u001b[0;32m1\u001b[0m\n\u001b[0;31m    1 lunch = ['라면','햄버거','김밥','돈가스','자장면']\u001b[0m\n\u001b[0m          ^\u001b[0m\n\u001b[0;31mSyntaxError\u001b[0m\u001b[0;31m:\u001b[0m invalid syntax\n"
          ]
        }
      ]
    },
    {
      "cell_type": "code",
      "metadata": {
        "id": "w2ZIbpnz8Fqb",
        "colab_type": "code",
        "colab": {
          "base_uri": "https://localhost:8080/",
          "height": 136
        },
        "outputId": "9292f350-71d6-4a7e-97ad-3d24a13b28c2"
      },
      "source": [
        "1 lunch.sort()\n",
        "2 lunch"
      ],
      "execution_count": 10,
      "outputs": [
        {
          "output_type": "error",
          "ename": "SyntaxError",
          "evalue": "ignored",
          "traceback": [
            "\u001b[0;36m  File \u001b[0;32m\"<ipython-input-10-d6d2798f2372>\"\u001b[0;36m, line \u001b[0;32m1\u001b[0m\n\u001b[0;31m    1 lunch.sort()\u001b[0m\n\u001b[0m          ^\u001b[0m\n\u001b[0;31mSyntaxError\u001b[0m\u001b[0;31m:\u001b[0m invalid syntax\n"
          ]
        }
      ]
    },
    {
      "cell_type": "code",
      "metadata": {
        "id": "EVtuSSrN8STn",
        "colab_type": "code",
        "colab": {
          "base_uri": "https://localhost:8080/",
          "height": 136
        },
        "outputId": "9c778b78-2484-43a8-d876-98c3bb69e715"
      },
      "source": [
        "1 lunch.reverse()\n",
        "2 lunch"
      ],
      "execution_count": 11,
      "outputs": [
        {
          "output_type": "error",
          "ename": "SyntaxError",
          "evalue": "ignored",
          "traceback": [
            "\u001b[0;36m  File \u001b[0;32m\"<ipython-input-11-e662b4fd2bbb>\"\u001b[0;36m, line \u001b[0;32m1\u001b[0m\n\u001b[0;31m    1 lunch.reverse()\u001b[0m\n\u001b[0m          ^\u001b[0m\n\u001b[0;31mSyntaxError\u001b[0m\u001b[0;31m:\u001b[0m invalid syntax\n"
          ]
        }
      ]
    },
    {
      "cell_type": "code",
      "metadata": {
        "id": "kZW4YdDG8b45",
        "colab_type": "code",
        "colab": {
          "base_uri": "https://localhost:8080/",
          "height": 136
        },
        "outputId": "fe69fdfb-3bad-4a13-9026-695ba02a6e47"
      },
      "source": [
        "1 import random as r\n",
        "2 r.shuffle(lunch)\n",
        "3 lunch"
      ],
      "execution_count": 12,
      "outputs": [
        {
          "output_type": "error",
          "ename": "SyntaxError",
          "evalue": "ignored",
          "traceback": [
            "\u001b[0;36m  File \u001b[0;32m\"<ipython-input-12-4264ed4fed9f>\"\u001b[0;36m, line \u001b[0;32m1\u001b[0m\n\u001b[0;31m    1 import random as r\u001b[0m\n\u001b[0m           ^\u001b[0m\n\u001b[0;31mSyntaxError\u001b[0m\u001b[0;31m:\u001b[0m invalid syntax\n"
          ]
        }
      ]
    },
    {
      "cell_type": "markdown",
      "metadata": {
        "id": "6d8gKeLs88o8",
        "colab_type": "text"
      },
      "source": [
        "#[연습문제1]\n",
        "\n",
        "1.10부터 10단위 100까지의 List만들기 : range()이용\n",
        "2 while문을 이용하여 List 값 출력하기...10/20..\n",
        "3 List합계와 평균 구하기\n",
        "4 continue를 이용하여 50 빼고 출력하기\n",
        "5 break를 이용하여 80까지만 출력하기"
      ]
    },
    {
      "cell_type": "code",
      "metadata": {
        "id": "q_o5pLNO-WAe",
        "colab_type": "code",
        "colab": {
          "base_uri": "https://localhost:8080/",
          "height": 136
        },
        "outputId": "ec55d205-2e74-4867-a22f-4d20223b621d"
      },
      "source": [
        "1 num=list(range(10,110,10))\n",
        "2i=0\n",
        "sum=0\n",
        "avr=0\n",
        " \n",
        "3 while(i<len(num)):\n",
        " if num[i]==50:\n",
        "4 i+=1\n",
        "6  continue\n",
        "7  if num[i] > 80 :\n",
        "    break\n",
        "  print(num[i], end=' ')\n",
        "  sum+=int(num[i])  \n",
        "  "
      ],
      "execution_count": 15,
      "outputs": [
        {
          "output_type": "error",
          "ename": "SyntaxError",
          "evalue": "ignored",
          "traceback": [
            "\u001b[0;36m  File \u001b[0;32m\"<ipython-input-15-44d29449d385>\"\u001b[0;36m, line \u001b[0;32m1\u001b[0m\n\u001b[0;31m    1 num=range(10,110,10)\u001b[0m\n\u001b[0m        ^\u001b[0m\n\u001b[0;31mSyntaxError\u001b[0m\u001b[0;31m:\u001b[0m invalid syntax\n"
          ]
        }
      ]
    },
    {
      "cell_type": "code",
      "metadata": {
        "id": "k-Pr5Lfy_hZy",
        "colab_type": "code",
        "colab": {}
      },
      "source": [
        "1type(num)"
      ],
      "execution_count": 0,
      "outputs": []
    },
    {
      "cell_type": "code",
      "metadata": {
        "id": "t-0Nju-5Cn5_",
        "colab_type": "code",
        "colab": {}
      },
      "source": [
        ""
      ],
      "execution_count": 0,
      "outputs": []
    },
    {
      "cell_type": "markdown",
      "metadata": {
        "id": "B_9miSvACpO1",
        "colab_type": "text"
      },
      "source": [
        "**연습문제2**\n",
        "입력값이 exit이면 멈추고 그렇지 않으면 계속 입력 받고 출력받기"
      ]
    },
    {
      "cell_type": "code",
      "metadata": {
        "id": "AqWTMBHUDIS3",
        "colab_type": "code",
        "colab": {
          "base_uri": "https://localhost:8080/",
          "height": 136
        },
        "outputId": "6736805c-bb52-4e5f-ccfc-87f7ace351cf"
      },
      "source": [
        "1 echo = input('입력>>')\n",
        "2 while echo='exit' :\n",
        "3 echo = input('입력>>')\n",
        "4  print('입력값 : 'echo)\n"
      ],
      "execution_count": 18,
      "outputs": [
        {
          "output_type": "error",
          "ename": "SyntaxError",
          "evalue": "ignored",
          "traceback": [
            "\u001b[0;36m  File \u001b[0;32m\"<ipython-input-18-982d2ff4dfe3>\"\u001b[0;36m, line \u001b[0;32m1\u001b[0m\n\u001b[0;31m    1 echo = input('입력>>')\u001b[0m\n\u001b[0m         ^\u001b[0m\n\u001b[0;31mSyntaxError\u001b[0m\u001b[0;31m:\u001b[0m invalid syntax\n"
          ]
        }
      ]
    },
    {
      "cell_type": "code",
      "metadata": {
        "id": "wIC0SZTIDKd-",
        "colab_type": "code",
        "colab": {
          "base_uri": "https://localhost:8080/",
          "height": 136
        },
        "outputId": "dd9d1db0-3187-4699-fb8d-9d37f6663e4f"
      },
      "source": [
        "1 type(num)"
      ],
      "execution_count": 17,
      "outputs": [
        {
          "output_type": "error",
          "ename": "SyntaxError",
          "evalue": "ignored",
          "traceback": [
            "\u001b[0;36m  File \u001b[0;32m\"<ipython-input-17-97773bf33d44>\"\u001b[0;36m, line \u001b[0;32m1\u001b[0m\n\u001b[0;31m    1 type(num)\u001b[0m\n\u001b[0m         ^\u001b[0m\n\u001b[0;31mSyntaxError\u001b[0m\u001b[0;31m:\u001b[0m invalid syntax\n"
          ]
        }
      ]
    },
    {
      "cell_type": "markdown",
      "metadata": {
        "id": "zb4VQQCnIh2c",
        "colab_type": "text"
      },
      "source": [
        "[연습문제]\n",
        "___\n",
        "\n",
        "id가 같으면 회원입니다.\n",
        "그렇지 않으면 회원가입\n"
      ]
    }
  ]
}