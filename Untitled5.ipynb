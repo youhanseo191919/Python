{
  "nbformat": 4,
  "nbformat_minor": 0,
  "metadata": {
    "colab": {
      "name": "Untitled5.ipynb",
      "provenance": [],
      "collapsed_sections": [],
      "mount_file_id": "1QVZCKki8cnakaWxQ0T2E9lZxiIn0zvfo",
      "authorship_tag": "ABX9TyOtv2vC3p8/0no8F8L0y6fb",
      "include_colab_link": true
    },
    "kernelspec": {
      "name": "python3",
      "display_name": "Python 3"
    }
  },
  "cells": [
    {
      "cell_type": "markdown",
      "metadata": {
        "id": "view-in-github",
        "colab_type": "text"
      },
      "source": [
        "<a href=\"https://colab.research.google.com/github/youhanseo191919/Python/blob/master/Untitled5.ipynb\" target=\"_parent\"><img src=\"https://colab.research.google.com/assets/colab-badge.svg\" alt=\"Open In Colab\"/></a>"
      ]
    },
    {
      "cell_type": "code",
      "metadata": {
        "id": "2EDYmkIPOFGs",
        "colab_type": "code",
        "colab": {
          "base_uri": "https://localhost:8080/",
          "height": 136
        },
        "outputId": "5362a5b8-4199-490b-aa7a-e7c6f9b2269d"
      },
      "source": [
        "import matplotlib.pyplot as plt\n",
        "import csv\n",
        "f = oppen('Incheo_tmp.csv')\n",
        "data = csv,reader(f)\n",
        "next(data)\n",
        "mx_tem - []\n",
        "for row in data:\n",
        "  if row[-1]! = '':\n",
        "    mx_temp.append(float(row[-1])))\n",
        "plt.plot(mx_temp)\n",
        "plt.show()"
      ],
      "execution_count": 3,
      "outputs": [
        {
          "output_type": "error",
          "ename": "SyntaxError",
          "evalue": "ignored",
          "traceback": [
            "\u001b[0;36m  File \u001b[0;32m\"<ipython-input-3-ee83348ef656>\"\u001b[0;36m, line \u001b[0;32m8\u001b[0m\n\u001b[0;31m    if row[-1]! = '':\u001b[0m\n\u001b[0m              ^\u001b[0m\n\u001b[0;31mSyntaxError\u001b[0m\u001b[0;31m:\u001b[0m invalid syntax\n"
          ]
        }
      ]
    },
    {
      "cell_type": "code",
      "metadata": {
        "id": "8fKtCOZzRESh",
        "colab_type": "code",
        "colab": {
          "base_uri": "https://localhost:8080/",
          "height": 265
        },
        "outputId": "84dd5d0f-fa21-4e3c-a490-c42cc9351eed"
      },
      "source": [
        "import matplotlib.pyplot as plt\n",
        "plt.boxplot([1,1,2,2,3,4,5,6,7,8,9,10])\n",
        "plt.show()"
      ],
      "execution_count": 7,
      "outputs": [
        {
          "output_type": "display_data",
          "data": {
            "image/png": "[encoded data removed]",
            "text/plain": [
              "<Figure size 432x288 with 1 Axes>"
            ]
          },
          "metadata": {
            "tags": [],
            "needs_background": "light"
          }
        }
      ]
    },
    {
      "cell_type": "code",
      "metadata": {
        "id": "fGWX3hNsR0es",
        "colab_type": "code",
        "colab": {
          "base_uri": "https://localhost:8080/",
          "height": 136
        },
        "outputId": "6b77d4fe-495d-4a01-d253-2904c9b0e002"
      },
      "source": [
        "import matplotlib.pyplot as plt\n",
        "import csv\n",
        "f = oppen('Incheo_tmp.csv')\n",
        "data = csv,reader(f)\n",
        "next(data)\n",
        "mx_tem - []\n",
        "for row in data:\n",
        "  if row[-1]! = '':\n",
        "    mx_temp.append(float(row[-1])))\n",
        "plt.boxplot(mx_temp)\n",
        "plt.show()"
      ],
      "execution_count": 8,
      "outputs": [
        {
          "output_type": "error",
          "ename": "SyntaxError",
          "evalue": "ignored",
          "traceback": [
            "\u001b[0;36m  File \u001b[0;32m\"<ipython-input-8-3a41fd7c77a6>\"\u001b[0;36m, line \u001b[0;32m8\u001b[0m\n\u001b[0;31m    if row[-1]! = '':\u001b[0m\n\u001b[0m              ^\u001b[0m\n\u001b[0;31mSyntaxError\u001b[0m\u001b[0;31m:\u001b[0m invalid syntax\n"
          ]
        }
      ]
    },
    {
      "cell_type": "code",
      "metadata": {
        "id": "8ar8hXO_Tnl4",
        "colab_type": "code",
        "colab": {
          "base_uri": "https://localhost:8080/",
          "height": 35
        },
        "outputId": "c2169d1d-7781-4c47-dc03-d2c614871823"
      },
      "source": [
        "hello = '안녕 만나서 반가워'\n",
        "print(hello.split())"
      ],
      "execution_count": 11,
      "outputs": [
        {
          "output_type": "stream",
          "text": [
            "['안녕', '만나서', '반가워']\n"
          ],
          "name": "stdout"
        }
      ]
    },
    {
      "cell_type": "code",
      "metadata": {
        "id": "lzZZNEPTVKyt",
        "colab_type": "code",
        "colab": {
          "base_uri": "https://localhost:8080/",
          "height": 35
        },
        "outputId": "8723b576-c35a-423b-f0e1-7a900af9281b"
      },
      "source": [
        "date = '2020-05-18'\n",
        "date = date.split('-')\n",
        "print(date[-1])"
      ],
      "execution_count": 15,
      "outputs": [
        {
          "output_type": "stream",
          "text": [
            "18\n"
          ],
          "name": "stdout"
        }
      ]
    },
    {
      "cell_type": "code",
      "metadata": {
        "id": "pR45V927V9ZP",
        "colab_type": "code",
        "colab": {
          "base_uri": "https://localhost:8080/",
          "height": 281
        },
        "outputId": "341d9021-04d0-4fb7-a748-b7d598ddc1b6"
      },
      "source": [
        "import matplotlib.pyplot as plt\n",
        "plt.title('This is a title')\n",
        "plt.plot([10,5,20,7], 'b')\n",
        "plt.show()"
      ],
      "execution_count": 19,
      "outputs": [
        {
          "output_type": "display_data",
          "data": {
            "image/png": "[encoded data removed]",
            "text/plain": [
              "<Figure size 432x288 with 1 Axes>"
            ]
          },
          "metadata": {
            "tags": [],
            "needs_background": "light"
          }
        }
      ]
    }
  ]
}